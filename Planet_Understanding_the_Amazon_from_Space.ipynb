{
  "nbformat": 4,
  "nbformat_minor": 0,
  "metadata": {
    "colab": {
      "provenance": []
    },
    "kernelspec": {
      "name": "python3",
      "display_name": "Python 3"
    },
    "language_info": {
      "name": "python"
    },
    "accelerator": "GPU",
    "gpuClass": "standard"
  },
  "cells": [
    {
      "cell_type": "code",
      "source": [
        "from google.colab import drive\n",
        "drive.mount('/content/drive')"
      ],
      "metadata": {
        "colab": {
          "base_uri": "https://localhost:8080/"
        },
        "id": "tCK7GE3n5OXY",
        "outputId": "cc69b1da-183c-4369-cabc-369147b8ef93"
      },
      "execution_count": null,
      "outputs": [
        {
          "output_type": "stream",
          "name": "stdout",
          "text": [
            "Mounted at /content/drive\n"
          ]
        }
      ]
    },
    {
      "cell_type": "code",
      "source": [
        "# import tarfile\n",
        "# train_tar = '/content/drive/MyDrive/Colab Notebooks/HDSC/Kaggle project/train-jpg.tar'\n",
        "# dataset = tarfile.open('/content/drive/MyDrive/Colab Notebooks/HDSC/Kaggle project/train-jpg.tar')"
      ],
      "metadata": {
        "id": "dV9Zr4bd6070"
      },
      "execution_count": null,
      "outputs": []
    },
    {
      "cell_type": "code",
      "source": [
        "# for name in tqdm(dataset.getnames()):\n",
        "#   print(name)\n",
        "# dataset.extractall(path='/content/drive/MyDrive/Colab Notebooks/HDSC/Kaggle project/train img data')"
      ],
      "metadata": {
        "id": "DKeTwYGV5Pno"
      },
      "execution_count": null,
      "outputs": []
    },
    {
      "cell_type": "code",
      "source": [
        "import pandas as pd\n",
        "from tqdm import tqdm\n",
        "from collections import Counter\n",
        "import cv2\n",
        "import os\n",
        "import matplotlib.pyplot as plt\n",
        "import numpy as np\n",
        "import keras\n",
        "from keras import backend as K\n",
        "from keras.models import Sequential\n",
        "from keras.layers import Dense, Dropout, Flatten\n",
        "from keras.layers import Conv2D, MaxPool2D\n",
        "from keras.optimizers import Adam\n",
        "from sklearn.model_selection import train_test_split\n",
        "from sklearn.metrics import fbeta_score\n",
        "import tensorflow as tf"
      ],
      "metadata": {
        "id": "QchWJHKU9S6F"
      },
      "execution_count": null,
      "outputs": []
    },
    {
      "cell_type": "code",
      "source": [
        "train_df = pd.read_csv('/content/drive/MyDrive/Colab Notebooks/HDSC/Kaggle project/train_v2.csv/train_v2.csv')\n",
        "train_df.head()"
      ],
      "metadata": {
        "colab": {
          "base_uri": "https://localhost:8080/",
          "height": 206
        },
        "id": "1p26-T1J9r5F",
        "outputId": "fcc4ad06-260a-4df8-be49-9fd8aeae93ff"
      },
      "execution_count": null,
      "outputs": [
        {
          "output_type": "execute_result",
          "data": {
            "text/plain": [
              "  image_name                                       tags\n",
              "0    train_0                               haze primary\n",
              "1    train_1            agriculture clear primary water\n",
              "2    train_2                              clear primary\n",
              "3    train_3                              clear primary\n",
              "4    train_4  agriculture clear habitation primary road"
            ],
            "text/html": [
              "\n",
              "  <div id=\"df-23aacba0-fd7f-40b2-a451-aa1e5c9aabeb\">\n",
              "    <div class=\"colab-df-container\">\n",
              "      <div>\n",
              "<style scoped>\n",
              "    .dataframe tbody tr th:only-of-type {\n",
              "        vertical-align: middle;\n",
              "    }\n",
              "\n",
              "    .dataframe tbody tr th {\n",
              "        vertical-align: top;\n",
              "    }\n",
              "\n",
              "    .dataframe thead th {\n",
              "        text-align: right;\n",
              "    }\n",
              "</style>\n",
              "<table border=\"1\" class=\"dataframe\">\n",
              "  <thead>\n",
              "    <tr style=\"text-align: right;\">\n",
              "      <th></th>\n",
              "      <th>image_name</th>\n",
              "      <th>tags</th>\n",
              "    </tr>\n",
              "  </thead>\n",
              "  <tbody>\n",
              "    <tr>\n",
              "      <th>0</th>\n",
              "      <td>train_0</td>\n",
              "      <td>haze primary</td>\n",
              "    </tr>\n",
              "    <tr>\n",
              "      <th>1</th>\n",
              "      <td>train_1</td>\n",
              "      <td>agriculture clear primary water</td>\n",
              "    </tr>\n",
              "    <tr>\n",
              "      <th>2</th>\n",
              "      <td>train_2</td>\n",
              "      <td>clear primary</td>\n",
              "    </tr>\n",
              "    <tr>\n",
              "      <th>3</th>\n",
              "      <td>train_3</td>\n",
              "      <td>clear primary</td>\n",
              "    </tr>\n",
              "    <tr>\n",
              "      <th>4</th>\n",
              "      <td>train_4</td>\n",
              "      <td>agriculture clear habitation primary road</td>\n",
              "    </tr>\n",
              "  </tbody>\n",
              "</table>\n",
              "</div>\n",
              "      <button class=\"colab-df-convert\" onclick=\"convertToInteractive('df-23aacba0-fd7f-40b2-a451-aa1e5c9aabeb')\"\n",
              "              title=\"Convert this dataframe to an interactive table.\"\n",
              "              style=\"display:none;\">\n",
              "        \n",
              "  <svg xmlns=\"http://www.w3.org/2000/svg\" height=\"24px\"viewBox=\"0 0 24 24\"\n",
              "       width=\"24px\">\n",
              "    <path d=\"M0 0h24v24H0V0z\" fill=\"none\"/>\n",
              "    <path d=\"M18.56 5.44l.94 2.06.94-2.06 2.06-.94-2.06-.94-.94-2.06-.94 2.06-2.06.94zm-11 1L8.5 8.5l.94-2.06 2.06-.94-2.06-.94L8.5 2.5l-.94 2.06-2.06.94zm10 10l.94 2.06.94-2.06 2.06-.94-2.06-.94-.94-2.06-.94 2.06-2.06.94z\"/><path d=\"M17.41 7.96l-1.37-1.37c-.4-.4-.92-.59-1.43-.59-.52 0-1.04.2-1.43.59L10.3 9.45l-7.72 7.72c-.78.78-.78 2.05 0 2.83L4 21.41c.39.39.9.59 1.41.59.51 0 1.02-.2 1.41-.59l7.78-7.78 2.81-2.81c.8-.78.8-2.07 0-2.86zM5.41 20L4 18.59l7.72-7.72 1.47 1.35L5.41 20z\"/>\n",
              "  </svg>\n",
              "      </button>\n",
              "      \n",
              "  <style>\n",
              "    .colab-df-container {\n",
              "      display:flex;\n",
              "      flex-wrap:wrap;\n",
              "      gap: 12px;\n",
              "    }\n",
              "\n",
              "    .colab-df-convert {\n",
              "      background-color: #E8F0FE;\n",
              "      border: none;\n",
              "      border-radius: 50%;\n",
              "      cursor: pointer;\n",
              "      display: none;\n",
              "      fill: #1967D2;\n",
              "      height: 32px;\n",
              "      padding: 0 0 0 0;\n",
              "      width: 32px;\n",
              "    }\n",
              "\n",
              "    .colab-df-convert:hover {\n",
              "      background-color: #E2EBFA;\n",
              "      box-shadow: 0px 1px 2px rgba(60, 64, 67, 0.3), 0px 1px 3px 1px rgba(60, 64, 67, 0.15);\n",
              "      fill: #174EA6;\n",
              "    }\n",
              "\n",
              "    [theme=dark] .colab-df-convert {\n",
              "      background-color: #3B4455;\n",
              "      fill: #D2E3FC;\n",
              "    }\n",
              "\n",
              "    [theme=dark] .colab-df-convert:hover {\n",
              "      background-color: #434B5C;\n",
              "      box-shadow: 0px 1px 3px 1px rgba(0, 0, 0, 0.15);\n",
              "      filter: drop-shadow(0px 1px 2px rgba(0, 0, 0, 0.3));\n",
              "      fill: #FFFFFF;\n",
              "    }\n",
              "  </style>\n",
              "\n",
              "      <script>\n",
              "        const buttonEl =\n",
              "          document.querySelector('#df-23aacba0-fd7f-40b2-a451-aa1e5c9aabeb button.colab-df-convert');\n",
              "        buttonEl.style.display =\n",
              "          google.colab.kernel.accessAllowed ? 'block' : 'none';\n",
              "\n",
              "        async function convertToInteractive(key) {\n",
              "          const element = document.querySelector('#df-23aacba0-fd7f-40b2-a451-aa1e5c9aabeb');\n",
              "          const dataTable =\n",
              "            await google.colab.kernel.invokeFunction('convertToInteractive',\n",
              "                                                     [key], {});\n",
              "          if (!dataTable) return;\n",
              "\n",
              "          const docLinkHtml = 'Like what you see? Visit the ' +\n",
              "            '<a target=\"_blank\" href=https://colab.research.google.com/notebooks/data_table.ipynb>data table notebook</a>'\n",
              "            + ' to learn more about interactive tables.';\n",
              "          element.innerHTML = '';\n",
              "          dataTable['output_type'] = 'display_data';\n",
              "          await google.colab.output.renderOutput(dataTable, element);\n",
              "          const docLink = document.createElement('div');\n",
              "          docLink.innerHTML = docLinkHtml;\n",
              "          element.appendChild(docLink);\n",
              "        }\n",
              "      </script>\n",
              "    </div>\n",
              "  </div>\n",
              "  "
            ]
          },
          "metadata": {},
          "execution_count": 5
        }
      ]
    },
    {
      "cell_type": "code",
      "source": [
        "train_df.tags.nunique()"
      ],
      "metadata": {
        "colab": {
          "base_uri": "https://localhost:8080/"
        },
        "id": "ruFM0QYLev_5",
        "outputId": "385aafa6-b111-4f49-921d-24360efdfca2"
      },
      "execution_count": null,
      "outputs": [
        {
          "output_type": "execute_result",
          "data": {
            "text/plain": [
              "449"
            ]
          },
          "metadata": {},
          "execution_count": 6
        }
      ]
    },
    {
      "cell_type": "code",
      "source": [
        "train_df.shape"
      ],
      "metadata": {
        "colab": {
          "base_uri": "https://localhost:8080/"
        },
        "id": "RYtec_Sj90ss",
        "outputId": "c372b6b1-1ea4-4a2b-9f8e-1245498e3434"
      },
      "execution_count": null,
      "outputs": [
        {
          "output_type": "execute_result",
          "data": {
            "text/plain": [
              "(40479, 2)"
            ]
          },
          "metadata": {},
          "execution_count": 7
        }
      ]
    },
    {
      "cell_type": "code",
      "source": [
        "# train_df['list_tags'] = train_df['tags'].str.split(' ')\n",
        "# row_tags = train_df['list_tags'].values\n",
        "# tags_temp = [tag for row in row_tags for tag in row]\n",
        "# counter_tags = Counter(tags_temp)\n",
        "# df_tags = pd.DataFrame({'tag' : counter_tags.keys(), \n",
        "#                         'total' : counter_tags.values()}).sort_values('total')"
      ],
      "metadata": {
        "id": "Ui8wyLF-WyFg"
      },
      "execution_count": null,
      "outputs": []
    },
    {
      "cell_type": "code",
      "source": [
        "# all_tags = list(set(tags_temp))"
      ],
      "metadata": {
        "id": "9KHM4tzvdC4L"
      },
      "execution_count": null,
      "outputs": []
    },
    {
      "cell_type": "code",
      "source": [
        "counts = {}\n",
        "splitted_tags = train_df['tags'].map(lambda x: x.split(' '))\n",
        "for labels in splitted_tags.values:\n",
        "    for label in labels:\n",
        "        counts[label] = counts[label] + 1  if label in counts else 0"
      ],
      "metadata": {
        "id": "BTTnpbFNlf8u"
      },
      "execution_count": null,
      "outputs": []
    },
    {
      "cell_type": "code",
      "source": [
        "all_labels = splitted_tags.values\n",
        "labels = list(set([y for x in all_labels for y in x]))"
      ],
      "metadata": {
        "id": "hzbW9O5Fmpg_"
      },
      "execution_count": null,
      "outputs": []
    },
    {
      "cell_type": "code",
      "source": [
        "# temp_dir = []\n",
        "# for f, tags in train_df.values:\n",
        "#   temp = path_train + f + '.jpg'\n",
        "#   print(temp)"
      ],
      "metadata": {
        "id": "rvzCxhb9rmJ4"
      },
      "execution_count": null,
      "outputs": []
    },
    {
      "cell_type": "code",
      "source": [
        "filenames = train_df['image_name'].values\n",
        "path_train = '/content/drive/MyDrive/Colab Notebooks/HDSC/Kaggle project/train img data/train-jpg/'\n",
        "path_files = [os.path.join(path_train, filename + '.jpg') for filename in filenames]"
      ],
      "metadata": {
        "id": "VzxK5YI0g-zc"
      },
      "execution_count": null,
      "outputs": []
    },
    {
      "cell_type": "code",
      "source": [
        "train_df"
      ],
      "metadata": {
        "colab": {
          "base_uri": "https://localhost:8080/",
          "height": 424
        },
        "id": "pZ3pdKEUQaVy",
        "outputId": "076968dd-45c1-4f63-c3ef-43559a01bd9d"
      },
      "execution_count": null,
      "outputs": [
        {
          "output_type": "execute_result",
          "data": {
            "text/plain": [
              "        image_name                                           tags\n",
              "0          train_0                                   haze primary\n",
              "1          train_1                agriculture clear primary water\n",
              "2          train_2                                  clear primary\n",
              "3          train_3                                  clear primary\n",
              "4          train_4      agriculture clear habitation primary road\n",
              "...            ...                                            ...\n",
              "40474  train_40474                                  clear primary\n",
              "40475  train_40475                                         cloudy\n",
              "40476  train_40476                      agriculture clear primary\n",
              "40477  train_40477                 agriculture clear primary road\n",
              "40478  train_40478  agriculture cultivation partly_cloudy primary\n",
              "\n",
              "[40479 rows x 2 columns]"
            ],
            "text/html": [
              "\n",
              "  <div id=\"df-a2f1a484-95dc-44cd-bb04-a582dc999cf1\">\n",
              "    <div class=\"colab-df-container\">\n",
              "      <div>\n",
              "<style scoped>\n",
              "    .dataframe tbody tr th:only-of-type {\n",
              "        vertical-align: middle;\n",
              "    }\n",
              "\n",
              "    .dataframe tbody tr th {\n",
              "        vertical-align: top;\n",
              "    }\n",
              "\n",
              "    .dataframe thead th {\n",
              "        text-align: right;\n",
              "    }\n",
              "</style>\n",
              "<table border=\"1\" class=\"dataframe\">\n",
              "  <thead>\n",
              "    <tr style=\"text-align: right;\">\n",
              "      <th></th>\n",
              "      <th>image_name</th>\n",
              "      <th>tags</th>\n",
              "    </tr>\n",
              "  </thead>\n",
              "  <tbody>\n",
              "    <tr>\n",
              "      <th>0</th>\n",
              "      <td>train_0</td>\n",
              "      <td>haze primary</td>\n",
              "    </tr>\n",
              "    <tr>\n",
              "      <th>1</th>\n",
              "      <td>train_1</td>\n",
              "      <td>agriculture clear primary water</td>\n",
              "    </tr>\n",
              "    <tr>\n",
              "      <th>2</th>\n",
              "      <td>train_2</td>\n",
              "      <td>clear primary</td>\n",
              "    </tr>\n",
              "    <tr>\n",
              "      <th>3</th>\n",
              "      <td>train_3</td>\n",
              "      <td>clear primary</td>\n",
              "    </tr>\n",
              "    <tr>\n",
              "      <th>4</th>\n",
              "      <td>train_4</td>\n",
              "      <td>agriculture clear habitation primary road</td>\n",
              "    </tr>\n",
              "    <tr>\n",
              "      <th>...</th>\n",
              "      <td>...</td>\n",
              "      <td>...</td>\n",
              "    </tr>\n",
              "    <tr>\n",
              "      <th>40474</th>\n",
              "      <td>train_40474</td>\n",
              "      <td>clear primary</td>\n",
              "    </tr>\n",
              "    <tr>\n",
              "      <th>40475</th>\n",
              "      <td>train_40475</td>\n",
              "      <td>cloudy</td>\n",
              "    </tr>\n",
              "    <tr>\n",
              "      <th>40476</th>\n",
              "      <td>train_40476</td>\n",
              "      <td>agriculture clear primary</td>\n",
              "    </tr>\n",
              "    <tr>\n",
              "      <th>40477</th>\n",
              "      <td>train_40477</td>\n",
              "      <td>agriculture clear primary road</td>\n",
              "    </tr>\n",
              "    <tr>\n",
              "      <th>40478</th>\n",
              "      <td>train_40478</td>\n",
              "      <td>agriculture cultivation partly_cloudy primary</td>\n",
              "    </tr>\n",
              "  </tbody>\n",
              "</table>\n",
              "<p>40479 rows × 2 columns</p>\n",
              "</div>\n",
              "      <button class=\"colab-df-convert\" onclick=\"convertToInteractive('df-a2f1a484-95dc-44cd-bb04-a582dc999cf1')\"\n",
              "              title=\"Convert this dataframe to an interactive table.\"\n",
              "              style=\"display:none;\">\n",
              "        \n",
              "  <svg xmlns=\"http://www.w3.org/2000/svg\" height=\"24px\"viewBox=\"0 0 24 24\"\n",
              "       width=\"24px\">\n",
              "    <path d=\"M0 0h24v24H0V0z\" fill=\"none\"/>\n",
              "    <path d=\"M18.56 5.44l.94 2.06.94-2.06 2.06-.94-2.06-.94-.94-2.06-.94 2.06-2.06.94zm-11 1L8.5 8.5l.94-2.06 2.06-.94-2.06-.94L8.5 2.5l-.94 2.06-2.06.94zm10 10l.94 2.06.94-2.06 2.06-.94-2.06-.94-.94-2.06-.94 2.06-2.06.94z\"/><path d=\"M17.41 7.96l-1.37-1.37c-.4-.4-.92-.59-1.43-.59-.52 0-1.04.2-1.43.59L10.3 9.45l-7.72 7.72c-.78.78-.78 2.05 0 2.83L4 21.41c.39.39.9.59 1.41.59.51 0 1.02-.2 1.41-.59l7.78-7.78 2.81-2.81c.8-.78.8-2.07 0-2.86zM5.41 20L4 18.59l7.72-7.72 1.47 1.35L5.41 20z\"/>\n",
              "  </svg>\n",
              "      </button>\n",
              "      \n",
              "  <style>\n",
              "    .colab-df-container {\n",
              "      display:flex;\n",
              "      flex-wrap:wrap;\n",
              "      gap: 12px;\n",
              "    }\n",
              "\n",
              "    .colab-df-convert {\n",
              "      background-color: #E8F0FE;\n",
              "      border: none;\n",
              "      border-radius: 50%;\n",
              "      cursor: pointer;\n",
              "      display: none;\n",
              "      fill: #1967D2;\n",
              "      height: 32px;\n",
              "      padding: 0 0 0 0;\n",
              "      width: 32px;\n",
              "    }\n",
              "\n",
              "    .colab-df-convert:hover {\n",
              "      background-color: #E2EBFA;\n",
              "      box-shadow: 0px 1px 2px rgba(60, 64, 67, 0.3), 0px 1px 3px 1px rgba(60, 64, 67, 0.15);\n",
              "      fill: #174EA6;\n",
              "    }\n",
              "\n",
              "    [theme=dark] .colab-df-convert {\n",
              "      background-color: #3B4455;\n",
              "      fill: #D2E3FC;\n",
              "    }\n",
              "\n",
              "    [theme=dark] .colab-df-convert:hover {\n",
              "      background-color: #434B5C;\n",
              "      box-shadow: 0px 1px 3px 1px rgba(0, 0, 0, 0.15);\n",
              "      filter: drop-shadow(0px 1px 2px rgba(0, 0, 0, 0.3));\n",
              "      fill: #FFFFFF;\n",
              "    }\n",
              "  </style>\n",
              "\n",
              "      <script>\n",
              "        const buttonEl =\n",
              "          document.querySelector('#df-a2f1a484-95dc-44cd-bb04-a582dc999cf1 button.colab-df-convert');\n",
              "        buttonEl.style.display =\n",
              "          google.colab.kernel.accessAllowed ? 'block' : 'none';\n",
              "\n",
              "        async function convertToInteractive(key) {\n",
              "          const element = document.querySelector('#df-a2f1a484-95dc-44cd-bb04-a582dc999cf1');\n",
              "          const dataTable =\n",
              "            await google.colab.kernel.invokeFunction('convertToInteractive',\n",
              "                                                     [key], {});\n",
              "          if (!dataTable) return;\n",
              "\n",
              "          const docLinkHtml = 'Like what you see? Visit the ' +\n",
              "            '<a target=\"_blank\" href=https://colab.research.google.com/notebooks/data_table.ipynb>data table notebook</a>'\n",
              "            + ' to learn more about interactive tables.';\n",
              "          element.innerHTML = '';\n",
              "          dataTable['output_type'] = 'display_data';\n",
              "          await google.colab.output.renderOutput(dataTable, element);\n",
              "          const docLink = document.createElement('div');\n",
              "          docLink.innerHTML = docLinkHtml;\n",
              "          element.appendChild(docLink);\n",
              "        }\n",
              "      </script>\n",
              "    </div>\n",
              "  </div>\n",
              "  "
            ]
          },
          "metadata": {},
          "execution_count": 14
        }
      ]
    },
    {
      "cell_type": "code",
      "source": [
        "df_train = train_df.sample(5000)"
      ],
      "metadata": {
        "id": "AaZvxBAceFMq"
      },
      "execution_count": null,
      "outputs": []
    },
    {
      "cell_type": "code",
      "source": [
        "resize = (128, 128)"
      ],
      "metadata": {
        "id": "l0MVv9LrS1Iy"
      },
      "execution_count": null,
      "outputs": []
    },
    {
      "cell_type": "code",
      "source": [
        "X = []\n",
        "y = []\n",
        "\n",
        "label_map = {l: i for i, l in enumerate(labels)}\n",
        "inv_label_map = {i: l for l, i in label_map.items()}\n",
        "\n",
        "for f, tags in tqdm(df_train.values):\n",
        "  img = cv2.imread(os.path.join(path_train, f + '.jpg'))\n",
        "  targets = np.zeros(17)\n",
        "  for t in tags.split(' '):\n",
        "    targets[label_map[t]] = 1 \n",
        "    X.append(cv2.resize(img, resize))\n",
        "    y.append(targets)"
      ],
      "metadata": {
        "colab": {
          "base_uri": "https://localhost:8080/"
        },
        "id": "0FEflwxXlnSx",
        "outputId": "d03b679f-c544-49ef-f789-c717727089fe"
      },
      "execution_count": null,
      "outputs": [
        {
          "output_type": "stream",
          "name": "stderr",
          "text": [
            "100%|██████████| 5000/5000 [1:15:22<00:00,  1.11it/s]\n"
          ]
        }
      ]
    },
    {
      "cell_type": "code",
      "source": [
        "%%time\n",
        "X = np.array(X, np.float16) / 255.    \n",
        "y = np.array(y, np.uint8)"
      ],
      "metadata": {
        "colab": {
          "base_uri": "https://localhost:8080/"
        },
        "id": "M6JVWU7t_Bw3",
        "outputId": "a802541d-47a5-4352-a12e-8dea9a36f16c"
      },
      "execution_count": null,
      "outputs": [
        {
          "output_type": "stream",
          "name": "stdout",
          "text": [
            "CPU times: user 11.3 s, sys: 229 ms, total: 11.5 s\n",
            "Wall time: 11.5 s\n"
          ]
        }
      ]
    },
    {
      "cell_type": "code",
      "source": [
        "X_train, X_val, y_train, y_val = train_test_split(X, y, test_size = 0.2, random_state = 42)"
      ],
      "metadata": {
        "id": "3UTMvdp6gpnl"
      },
      "execution_count": null,
      "outputs": []
    },
    {
      "cell_type": "code",
      "source": [
        "tf.keras.backend.clear_session()\n",
        "model = Sequential([\n",
        "    Conv2D(64, kernel_size=(3, 3), activation='relu', padding='same', input_shape=(128, 128, 3)),\n",
        "    Conv2D(64, kernel_size=(3, 3), activation='relu', padding='same'),\n",
        "    Conv2D(64, kernel_size=(3, 3), activation='relu', padding='same'),\n",
        "    MaxPool2D(pool_size=(2, 2)),\n",
        "    Dropout(0.2),\n",
        "\n",
        "    Conv2D(128, kernel_size=(3, 3), activation='relu', padding='same'),\n",
        "    Conv2D(128, kernel_size=(3, 3), activation='relu'),\n",
        "    MaxPool2D(pool_size=(2, 2)),\n",
        "\n",
        "    Conv2D(256, kernel_size=(3, 3), activation='relu', padding='same'),\n",
        "    Conv2D(256, kernel_size=(3, 3), activation='relu'),\n",
        "    Conv2D(256, kernel_size=(3, 3), activation='relu'),\n",
        "    MaxPool2D(pool_size=(2, 2)),\n",
        "    Dropout(0.2),\n",
        "\n",
        "    Conv2D(512, kernel_size=(3, 3), activation='relu', padding='same'),\n",
        "    Conv2D(512, kernel_size=(3, 3), activation='relu'),\n",
        "    Conv2D(1024, kernel_size=(3, 3), activation='relu'),\n",
        "    MaxPool2D(pool_size=(2, 2)),\n",
        "\n",
        "    Flatten(),\n",
        "    Dense(1024, activation='relu'),\n",
        "    Dense(17, activation='sigmoid')])"
      ],
      "metadata": {
        "id": "fZ-5SeMyZk3O"
      },
      "execution_count": null,
      "outputs": []
    },
    {
      "cell_type": "code",
      "source": [
        "def fbeta_score_custom(y_true, y_pred):\n",
        "    beta_squared = 4\n",
        "\n",
        "    tp = K.sum(y_true * y_pred) + K.epsilon()\n",
        "    fp = K.sum(y_pred) - tp\n",
        "    fn = K.sum(y_true) - tp\n",
        "\n",
        "    precision = tp / (tp + fp)\n",
        "    recall = tp / (tp + fn)\n",
        "\n",
        "    result = (beta_squared + 1) * (precision * recall) / (beta_squared * precision + recall + K.epsilon())\n",
        "    return result"
      ],
      "metadata": {
        "id": "fWfjHW5xxA4L"
      },
      "execution_count": null,
      "outputs": []
    },
    {
      "cell_type": "code",
      "source": [
        "model.compile(loss='binary_crossentropy', optimizer='adam', metrics= [fbeta_score_custom])\n",
        "model.summary()"
      ],
      "metadata": {
        "colab": {
          "base_uri": "https://localhost:8080/"
        },
        "id": "vfM8sL1AZk-A",
        "outputId": "79210b3d-a859-4541-d20c-58f70a16381f"
      },
      "execution_count": null,
      "outputs": [
        {
          "output_type": "stream",
          "name": "stdout",
          "text": [
            "Model: \"sequential\"\n",
            "_________________________________________________________________\n",
            " Layer (type)                Output Shape              Param #   \n",
            "=================================================================\n",
            " conv2d (Conv2D)             (None, 128, 128, 64)      1792      \n",
            "                                                                 \n",
            " conv2d_1 (Conv2D)           (None, 128, 128, 64)      36928     \n",
            "                                                                 \n",
            " conv2d_2 (Conv2D)           (None, 128, 128, 64)      36928     \n",
            "                                                                 \n",
            " max_pooling2d (MaxPooling2D  (None, 64, 64, 64)       0         \n",
            " )                                                               \n",
            "                                                                 \n",
            " dropout (Dropout)           (None, 64, 64, 64)        0         \n",
            "                                                                 \n",
            " conv2d_3 (Conv2D)           (None, 64, 64, 128)       73856     \n",
            "                                                                 \n",
            " conv2d_4 (Conv2D)           (None, 62, 62, 128)       147584    \n",
            "                                                                 \n",
            " max_pooling2d_1 (MaxPooling  (None, 31, 31, 128)      0         \n",
            " 2D)                                                             \n",
            "                                                                 \n",
            " conv2d_5 (Conv2D)           (None, 31, 31, 256)       295168    \n",
            "                                                                 \n",
            " conv2d_6 (Conv2D)           (None, 29, 29, 256)       590080    \n",
            "                                                                 \n",
            " conv2d_7 (Conv2D)           (None, 27, 27, 256)       590080    \n",
            "                                                                 \n",
            " max_pooling2d_2 (MaxPooling  (None, 13, 13, 256)      0         \n",
            " 2D)                                                             \n",
            "                                                                 \n",
            " dropout_1 (Dropout)         (None, 13, 13, 256)       0         \n",
            "                                                                 \n",
            " conv2d_8 (Conv2D)           (None, 13, 13, 512)       1180160   \n",
            "                                                                 \n",
            " conv2d_9 (Conv2D)           (None, 11, 11, 512)       2359808   \n",
            "                                                                 \n",
            " conv2d_10 (Conv2D)          (None, 9, 9, 1024)        4719616   \n",
            "                                                                 \n",
            " max_pooling2d_3 (MaxPooling  (None, 4, 4, 1024)       0         \n",
            " 2D)                                                             \n",
            "                                                                 \n",
            " flatten (Flatten)           (None, 16384)             0         \n",
            "                                                                 \n",
            " dense (Dense)               (None, 1024)              16778240  \n",
            "                                                                 \n",
            " dense_1 (Dense)             (None, 17)                17425     \n",
            "                                                                 \n",
            "=================================================================\n",
            "Total params: 26,827,665\n",
            "Trainable params: 26,827,665\n",
            "Non-trainable params: 0\n",
            "_________________________________________________________________\n"
          ]
        }
      ]
    },
    {
      "cell_type": "code",
      "source": [
        "callback = tf.keras.callbacks.ModelCheckpoint('/content/drive/MyDrive/Colab Notebooks/HDSC/Kaggle project/model.h5', \n",
        "                                              save_best_only = True, \n",
        "                                              monitor = 'val_loss',\n",
        "                                              verbose = 1)"
      ],
      "metadata": {
        "id": "BeAuCB3I704V"
      },
      "execution_count": null,
      "outputs": []
    },
    {
      "cell_type": "code",
      "source": [
        "model_fit = model.fit(\n",
        "    X_train, y_train,\n",
        "    batch_size=128,\n",
        "    epochs=10,\n",
        "    verbose=1,\n",
        "    callbacks=callback,\n",
        "    validation_data=(X_val, y_val))"
      ],
      "metadata": {
        "colab": {
          "base_uri": "https://localhost:8080/"
        },
        "id": "nvRnVkTOa0N_",
        "outputId": "5e780272-6815-4262-e90e-41a205c945e8"
      },
      "execution_count": null,
      "outputs": [
        {
          "output_type": "stream",
          "name": "stdout",
          "text": [
            "Epoch 1/10\n",
            "91/91 [==============================] - ETA: 0s - loss: 0.3741 - fbeta_score_custom: 0.5418\n",
            "Epoch 1: val_loss improved from inf to 0.26896, saving model to /content/drive/MyDrive/Colab Notebooks/HDSC/Kaggle project/model.h5\n",
            "91/91 [==============================] - 81s 694ms/step - loss: 0.3741 - fbeta_score_custom: 0.5418 - val_loss: 0.2690 - val_fbeta_score_custom: 0.6003\n",
            "Epoch 2/10\n",
            "91/91 [==============================] - ETA: 0s - loss: 0.2602 - fbeta_score_custom: 0.6008\n",
            "Epoch 2: val_loss improved from 0.26896 to 0.26374, saving model to /content/drive/MyDrive/Colab Notebooks/HDSC/Kaggle project/model.h5\n",
            "91/91 [==============================] - 61s 670ms/step - loss: 0.2602 - fbeta_score_custom: 0.6008 - val_loss: 0.2637 - val_fbeta_score_custom: 0.5697\n",
            "Epoch 3/10\n",
            "91/91 [==============================] - ETA: 0s - loss: 0.2539 - fbeta_score_custom: 0.6059\n",
            "Epoch 3: val_loss improved from 0.26374 to 0.25720, saving model to /content/drive/MyDrive/Colab Notebooks/HDSC/Kaggle project/model.h5\n",
            "91/91 [==============================] - 61s 669ms/step - loss: 0.2539 - fbeta_score_custom: 0.6059 - val_loss: 0.2572 - val_fbeta_score_custom: 0.6243\n",
            "Epoch 4/10\n",
            "91/91 [==============================] - ETA: 0s - loss: 0.2433 - fbeta_score_custom: 0.6242\n",
            "Epoch 4: val_loss improved from 0.25720 to 0.24770, saving model to /content/drive/MyDrive/Colab Notebooks/HDSC/Kaggle project/model.h5\n",
            "91/91 [==============================] - 61s 668ms/step - loss: 0.2433 - fbeta_score_custom: 0.6242 - val_loss: 0.2477 - val_fbeta_score_custom: 0.6387\n",
            "Epoch 5/10\n",
            "91/91 [==============================] - ETA: 0s - loss: 0.2347 - fbeta_score_custom: 0.6408\n",
            "Epoch 5: val_loss improved from 0.24770 to 0.22183, saving model to /content/drive/MyDrive/Colab Notebooks/HDSC/Kaggle project/model.h5\n",
            "91/91 [==============================] - 61s 671ms/step - loss: 0.2347 - fbeta_score_custom: 0.6408 - val_loss: 0.2218 - val_fbeta_score_custom: 0.6615\n",
            "Epoch 6/10\n",
            "91/91 [==============================] - ETA: 0s - loss: 0.2169 - fbeta_score_custom: 0.6699\n",
            "Epoch 6: val_loss improved from 0.22183 to 0.21232, saving model to /content/drive/MyDrive/Colab Notebooks/HDSC/Kaggle project/model.h5\n",
            "91/91 [==============================] - 61s 673ms/step - loss: 0.2169 - fbeta_score_custom: 0.6699 - val_loss: 0.2123 - val_fbeta_score_custom: 0.6798\n",
            "Epoch 7/10\n",
            "91/91 [==============================] - ETA: 0s - loss: 0.2055 - fbeta_score_custom: 0.6865\n",
            "Epoch 7: val_loss improved from 0.21232 to 0.20089, saving model to /content/drive/MyDrive/Colab Notebooks/HDSC/Kaggle project/model.h5\n",
            "91/91 [==============================] - 61s 670ms/step - loss: 0.2055 - fbeta_score_custom: 0.6865 - val_loss: 0.2009 - val_fbeta_score_custom: 0.6948\n",
            "Epoch 8/10\n",
            "91/91 [==============================] - ETA: 0s - loss: 0.1926 - fbeta_score_custom: 0.7065\n",
            "Epoch 8: val_loss improved from 0.20089 to 0.18617, saving model to /content/drive/MyDrive/Colab Notebooks/HDSC/Kaggle project/model.h5\n",
            "91/91 [==============================] - 61s 671ms/step - loss: 0.1926 - fbeta_score_custom: 0.7065 - val_loss: 0.1862 - val_fbeta_score_custom: 0.7290\n",
            "Epoch 9/10\n",
            "91/91 [==============================] - ETA: 0s - loss: 0.1758 - fbeta_score_custom: 0.7331\n",
            "Epoch 9: val_loss improved from 0.18617 to 0.17699, saving model to /content/drive/MyDrive/Colab Notebooks/HDSC/Kaggle project/model.h5\n",
            "91/91 [==============================] - 61s 671ms/step - loss: 0.1758 - fbeta_score_custom: 0.7331 - val_loss: 0.1770 - val_fbeta_score_custom: 0.7439\n",
            "Epoch 10/10\n",
            "91/91 [==============================] - ETA: 0s - loss: 0.1603 - fbeta_score_custom: 0.7572\n",
            "Epoch 10: val_loss improved from 0.17699 to 0.15608, saving model to /content/drive/MyDrive/Colab Notebooks/HDSC/Kaggle project/model.h5\n",
            "91/91 [==============================] - 61s 672ms/step - loss: 0.1603 - fbeta_score_custom: 0.7572 - val_loss: 0.1561 - val_fbeta_score_custom: 0.7744\n"
          ]
        }
      ]
    },
    {
      "cell_type": "code",
      "source": [
        "y_pred = model.predict(X_val, batch_size=128)\n",
        "score = fbeta_score(y_val, np.array(y_pred) > 0.2, beta=2, average='samples')\n",
        "print(\"F beta score: \", score)"
      ],
      "metadata": {
        "colab": {
          "base_uri": "https://localhost:8080/"
        },
        "id": "FlHz0BGpa5cw",
        "outputId": "0e007a54-20d3-48df-c870-18ee135ac3f6"
      },
      "execution_count": null,
      "outputs": [
        {
          "output_type": "stream",
          "name": "stdout",
          "text": [
            "23/23 [==============================] - 5s 201ms/step\n",
            "F beta score:  0.8668724480623726\n"
          ]
        }
      ]
    },
    {
      "cell_type": "code",
      "source": [
        "# %%time\n",
        "# import tarfile\n",
        "# test_file = tarfile.open('/content/drive/MyDrive/Colab Notebooks/HDSC/Kaggle project/test-jpg.tar')\n",
        "# test_file.extractall(path='/content/drive/MyDrive/Colab Notebooks/HDSC/Kaggle project/test img data')"
      ],
      "metadata": {
        "id": "4_oyo_nezwUw"
      },
      "execution_count": null,
      "outputs": []
    }
  ]
}